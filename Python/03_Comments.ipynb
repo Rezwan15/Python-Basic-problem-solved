{
  "nbformat": 4,
  "nbformat_minor": 0,
  "metadata": {
    "colab": {
      "name": "03.Comments",
      "provenance": [],
      "private_outputs": true
    },
    "kernelspec": {
      "name": "python3",
      "display_name": "Python 3"
    }
  },
  "cells": [
    {
      "cell_type": "code",
      "metadata": {
        "id": "oEWWJPNIsCPL",
        "colab_type": "code",
        "colab": {}
      },
      "source": [
        "print(\"Hi ! i am siam\") #this is \n",
        "\n",
        "# if you press control plus forward slash it will be comment \n"
      ],
      "execution_count": null,
      "outputs": []
    }
  ]
}