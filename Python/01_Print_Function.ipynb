{
  "nbformat": 4,
  "nbformat_minor": 0,
  "metadata": {
    "colab": {
      "name": "01.Print Function",
      "provenance": [],
      "private_outputs": true
    },
    "kernelspec": {
      "name": "python3",
      "display_name": "Python 3"
    }
  },
  "cells": [
    {
      "cell_type": "code",
      "metadata": {
        "id": "aqP1D_2tvTtq",
        "colab_type": "code",
        "colab": {}
      },
      "source": [
        "print(\"Hello World\") #we can use double \"\" and single ''"
      ],
      "execution_count": null,
      "outputs": []
    },
    {
      "cell_type": "code",
      "metadata": {
        "id": "TidNznmUv8or",
        "colab_type": "code",
        "colab": {}
      },
      "source": [
        "print('Hello World') "
      ],
      "execution_count": null,
      "outputs": []
    },
    {
      "cell_type": "code",
      "metadata": {
        "id": "edZbgUnuw41k",
        "colab_type": "code",
        "colab": {}
      },
      "source": [
        "print(\"Hello 'world' world\")"
      ],
      "execution_count": null,
      "outputs": []
    },
    {
      "cell_type": "code",
      "metadata": {
        "id": "xQteh-H9zJ0S",
        "colab_type": "code",
        "colab": {}
      },
      "source": [
        "print('Hello \"world\" world') #we can not use single '' inside single ''  and double cots inside double cots "
      ],
      "execution_count": null,
      "outputs": []
    }
  ]
}