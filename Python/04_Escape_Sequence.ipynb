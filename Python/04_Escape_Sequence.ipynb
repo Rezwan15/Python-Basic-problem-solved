{
  "nbformat": 4,
  "nbformat_minor": 0,
  "metadata": {
    "colab": {
      "name": "04.Escape Sequence",
      "provenance": [],
      "private_outputs": true
    },
    "kernelspec": {
      "name": "python3",
      "display_name": "Python 3"
    }
  },
  "cells": [
    {
      "cell_type": "code",
      "metadata": {
        "id": "IpIlmww-s9Un",
        "colab_type": "code",
        "colab": {}
      },
      "source": [
        " print(\"Line A \\n Line B\")\n",
        " "
      ],
      "execution_count": null,
      "outputs": []
    },
    {
      "cell_type": "code",
      "metadata": {
        "id": "84kThqHkt80L",
        "colab_type": "code",
        "colab": {}
      },
      "source": [
        " print(\"Line A \\\\n Line B\")  #Escape sequence \n",
        " print(\"Line B \\\\t Line b\")\n",
        " print(\"This is four backslash \\\\\\\\\\\\\\\\\")\n",
        " print(\"\\\\\\\" \\\\\\' \")\n",
        " #\\' = '\n",
        " #\\\\\\' = "
      ],
      "execution_count": null,
      "outputs": []
    }
  ]
}