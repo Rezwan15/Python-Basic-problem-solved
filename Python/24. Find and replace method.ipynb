{
 "cells": [
  {
   "cell_type": "code",
   "execution_count": 4,
   "metadata": {},
   "outputs": [
    {
     "name": "stdout",
     "output_type": "stream",
     "text": [
      "She_is_the_most_beautiful_girl_I_have_ever_meet\n"
     ]
    }
   ],
   "source": [
    "string = \"She is the most beautiful girl I have ever meet\"\n",
    "print(string.replace(\" \",\"_\"))"
   ]
  },
  {
   "cell_type": "code",
   "execution_count": 5,
   "metadata": {},
   "outputs": [
    {
     "name": "stdout",
     "output_type": "stream",
     "text": [
      "_S_h_e_ _i_s_ _t_h_e_ _m_o_s_t_ _b_e_a_u_t_i_f_u_l_ _g_i_r_l_ _I_ _h_a_v_e_ _e_v_e_r_ _m_e_e_t_\n"
     ]
    }
   ],
   "source": [
    "string = \"She is the most beautiful girl I have ever meet\"\n",
    "print(string.replace(\"\",\"_\"))"
   ]
  },
  {
   "cell_type": "code",
   "execution_count": 6,
   "metadata": {},
   "outputs": [
    {
     "name": "stdout",
     "output_type": "stream",
     "text": [
      "She was the most beautiful girl I have ever meet\n"
     ]
    }
   ],
   "source": [
    "string = \"She is the most beautiful girl I have ever meet\"\n",
    "print(string.replace(\"is\",\"was\"))"
   ]
  },
  {
   "cell_type": "code",
   "execution_count": 7,
   "metadata": {},
   "outputs": [
    {
     "name": "stdout",
     "output_type": "stream",
     "text": [
      "She was is is the most beautiful girl I have ever meet\n"
     ]
    }
   ],
   "source": [
    "string = \"She is is is the most beautiful girl I have ever meet\"\n",
    "print(string.replace(\"is\",\"was\",1))"
   ]
  },
  {
   "cell_type": "code",
   "execution_count": 10,
   "metadata": {},
   "outputs": [
    {
     "data": {
      "text/plain": [
       "23"
      ]
     },
     "execution_count": 10,
     "metadata": {},
     "output_type": "execute_result"
    }
   ],
   "source": [
    "#Find () method\n",
    "string = \"Sheasdasd is is is the most beautiful girl I have ever meet\"\n",
    "(string.find(\"most\"))"
   ]
  },
  {
   "cell_type": "code",
   "execution_count": 14,
   "metadata": {},
   "outputs": [
    {
     "data": {
      "text/plain": [
       "11"
      ]
     },
     "execution_count": 14,
     "metadata": {},
     "output_type": "execute_result"
    }
   ],
   "source": [
    "#Find () method\n",
    "string = \"Sheasda is is is the most beautiful girl I have ever meet\"\n",
    "(string.find(\"is\",9))"
   ]
  },
  {
   "cell_type": "code",
   "execution_count": 20,
   "metadata": {},
   "outputs": [
    {
     "name": "stdout",
     "output_type": "stream",
     "text": [
      "Ths position will be on: 5\n",
      "8\n",
      "11\n"
     ]
    }
   ],
   "source": [
    "#Find () method\n",
    "string = \"Shda is is is the most beautiful girl I have ever meet\"\n",
    "(string.find(\"is\",9))\n",
    "is_pos1 = string.find(\"is\")\n",
    "is_pos2 = string.find(\"is\",7)\n",
    "is_pos3 = string.find(\"is\",11)\n",
    "print(f\"Ths position will be on: {is_pos1}\" )\n",
    "print(is_pos2)\n",
    "print(is_pos3)                "
   ]
  },
  {
   "cell_type": "code",
   "execution_count": null,
   "metadata": {},
   "outputs": [],
   "source": [
    "          "
   ]
  }
 ],
 "metadata": {
  "kernelspec": {
   "display_name": "Python 3",
   "language": "python",
   "name": "python3"
  },
  "language_info": {
   "codemirror_mode": {
    "name": "ipython",
    "version": 3
   },
   "file_extension": ".py",
   "mimetype": "text/x-python",
   "name": "python",
   "nbconvert_exporter": "python",
   "pygments_lexer": "ipython3",
   "version": "3.7.3"
  }
 },
 "nbformat": 4,
 "nbformat_minor": 2
}
