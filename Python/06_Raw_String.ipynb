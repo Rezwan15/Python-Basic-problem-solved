{
  "nbformat": 4,
  "nbformat_minor": 0,
  "metadata": {
    "colab": {
      "name": "06.Raw String",
      "provenance": [],
      "private_outputs": true
    },
    "kernelspec": {
      "name": "python3",
      "display_name": "Python 3"
    }
  },
  "cells": [
    {
      "cell_type": "code",
      "metadata": {
        "id": "CkRBTCsnznOv",
        "colab_type": "code",
        "colab": {}
      },
      "source": [
        "print(\"line A \\\\n Line B\")"
      ],
      "execution_count": null,
      "outputs": []
    },
    {
      "cell_type": "code",
      "metadata": {
        "id": "H9TNnFgp0PlJ",
        "colab_type": "code",
        "colab": {}
      },
      "source": [
        "print(r\"line A \\\\n Line B\")"
      ],
      "execution_count": null,
      "outputs": []
    }
  ]
}