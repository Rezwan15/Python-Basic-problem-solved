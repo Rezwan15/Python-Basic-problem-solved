{
 "cells": [
  {
   "cell_type": "code",
   "execution_count": 1,
   "metadata": {},
   "outputs": [
    {
     "name": "stdout",
     "output_type": "stream",
     "text": [
      "zwa\n"
     ]
    }
   ],
   "source": [
    "#slicing / selecting sub sequences \n",
    "lang = \"Python\"\n",
    "#systax - [ start argument : stop argument -1 : step]\n",
    "print(\"Rezwan\"[2:5]) \n"
   ]
  },
  {
   "cell_type": "code",
   "execution_count": 4,
   "metadata": {},
   "outputs": [
    {
     "name": "stdout",
     "output_type": "stream",
     "text": [
      "Rza\n"
     ]
    }
   ],
   "source": [
    "#slicing / selecting sub sequences \n",
    "#lang = \"Python\"\n",
    "#systax - [ start argument : stop argument -1 : step]\n",
    "print(\"Rezwan\"[0:5:2]) \n"
   ]
  },
  {
   "cell_type": "code",
   "execution_count": 7,
   "metadata": {},
   "outputs": [
    {
     "name": "stdout",
     "output_type": "stream",
     "text": [
      "Rw\n"
     ]
    }
   ],
   "source": [
    "#slicing / selecting sub sequences \n",
    "#lang = \"Python\"\n",
    "#systax - [ start argument : stop argument -1 : step]\n",
    "print(\"Rezwan\"[::3]) \n"
   ]
  },
  {
   "cell_type": "code",
   "execution_count": 10,
   "metadata": {},
   "outputs": [
    {
     "name": "stdout",
     "output_type": "stream",
     "text": [
      "nawzer\n"
     ]
    }
   ],
   "source": [
    "#slicing / selecting sub sequences \n",
    "#lang = \"Python\"\n",
    "#systax - [ start argument : stop argument -1 : step]\n",
    "print(\"rezwan\"[::-1]) \n",
    "#Backward "
   ]
  },
  {
   "cell_type": "code",
   "execution_count": null,
   "metadata": {},
   "outputs": [],
   "source": []
  }
 ],
 "metadata": {
  "kernelspec": {
   "display_name": "Python 3",
   "language": "python",
   "name": "python3"
  },
  "language_info": {
   "codemirror_mode": {
    "name": "ipython",
    "version": 3
   },
   "file_extension": ".py",
   "mimetype": "text/x-python",
   "name": "python",
   "nbconvert_exporter": "python",
   "pygments_lexer": "ipython3",
   "version": "3.7.3"
  }
 },
 "nbformat": 4,
 "nbformat_minor": 2
}
