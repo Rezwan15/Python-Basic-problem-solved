{
 "cells": [
  {
   "cell_type": "code",
   "execution_count": 4,
   "metadata": {},
   "outputs": [
    {
     "name": "stdout",
     "output_type": "stream",
     "text": [
      "Please enter your age: 0\n",
      "Ticket price is free \n"
     ]
    }
   ],
   "source": [
    "#if elif else statement \n",
    "\n",
    "# show ticket pricing\n",
    "#1 to 3 (free)\n",
    "#4 to 10 (150)\n",
    "#11 to 60 (250)\n",
    "# above 60 (200)\n",
    "\n",
    "\n",
    "age = input(\"Please enter your age: \")\n",
    "age = int(age)\n",
    "\n",
    "if 0<age<=3:\n",
    "    print(\"Ticket price: Free\")\n",
    "elif age == 0:\n",
    "    print(\"Ticket price is free \")\n",
    "elif 3<age<=10:\n",
    "    print(\"Ticket price is: 150\")\n",
    "else:\n",
    "    print(\"Ticket price is: 250\")"
   ]
  },
  {
   "cell_type": "code",
   "execution_count": null,
   "metadata": {},
   "outputs": [],
   "source": []
  }
 ],
 "metadata": {
  "kernelspec": {
   "display_name": "Python 3",
   "language": "python",
   "name": "python3"
  }
 },
 "nbformat": 4,
 "nbformat_minor": 2
}
