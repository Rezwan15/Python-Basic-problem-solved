{
 "cells": [
  {
   "cell_type": "code",
   "execution_count": null,
   "metadata": {
    "colab": {},
    "colab_type": "code",
    "id": "hkWLJ1DQMeGZ"
   },
   "outputs": [],
   "source": [
    "print(2+3*4)\n",
    "print(2/4)    #floating  \n",
    "print(4//2)    #integer divison \n",
    "print(2//4)\n",
    "print(2**3) #** act as power\n",
    "print(2**0.5)\n",
    "round(2**0.5,4)  #print the value in some digit\n",
    "print(2**3/2*6-4*(3-4/2))  #presidence and assosiativity rules"
   ]
  },
  {
   "cell_type": "code",
   "execution_count": null,
   "metadata": {
    "colab": {},
    "colab_type": "code",
    "id": "HcBq3oTRWBuc"
   },
   "outputs": [],
   "source": [
    "print((2+3)*5/2%6)"
   ]
  }
 ],
 "metadata": {
  "colab": {
   "name": "08.Python As Calculator ",
   "private_outputs": true,
   "provenance": []
  },
  "kernelspec": {
   "display_name": "Python 3",
   "language": "python",
   "name": "python3"
  },
  "language_info": {
   "codemirror_mode": {
    "name": "ipython",
    "version": 3
   },
   "file_extension": ".py",
   "mimetype": "text/x-python",
   "name": "python",
   "nbconvert_exporter": "python",
   "pygments_lexer": "ipython3",
   "version": "3.7.3"
  }
 },
 "nbformat": 4,
 "nbformat_minor": 1
}
