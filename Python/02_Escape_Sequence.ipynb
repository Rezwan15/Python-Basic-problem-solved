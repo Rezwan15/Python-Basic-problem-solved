{
  "nbformat": 4,
  "nbformat_minor": 0,
  "metadata": {
    "colab": {
      "name": "02. Escape Sequence",
      "provenance": [],
      "private_outputs": true,
      "collapsed_sections": []
    },
    "kernelspec": {
      "name": "python3",
      "display_name": "Python 3"
    }
  },
  "cells": [
    {
      "cell_type": "code",
      "metadata": {
        "id": "eA5Pcdwzzq5o",
        "colab_type": "code",
        "colab": {}
      },
      "source": [
        "  print(\"Line A\")\n",
        "  print(\"Line B\")"
      ],
      "execution_count": null,
      "outputs": []
    },
    {
      "cell_type": "markdown",
      "metadata": {
        "id": "Z5U8EOIs0K-6",
        "colab_type": "text"
      },
      "source": [
        "\\' single quote\n",
        "\\\" double qutoe\n",
        "\\\\ backslash\n",
        "\\n new line\n",
        "\\t tab\n",
        "\\b backspace "
      ]
    },
    {
      "cell_type": "code",
      "metadata": {
        "id": "suk04hNW06yL",
        "colab_type": "code",
        "colab": {}
      },
      "source": [
        "  print(\"Line A\\nLine B\\nLine C\") #backslash n or newline "
      ],
      "execution_count": null,
      "outputs": []
    },
    {
      "cell_type": "code",
      "metadata": {
        "id": "DvH4fMaE1L4v",
        "colab_type": "code",
        "colab": {}
      },
      "source": [
        "print(\"name\\tHarshit\") #Backshlash t is used for tab"
      ],
      "execution_count": null,
      "outputs": []
    },
    {
      "cell_type": "code",
      "metadata": {
        "id": "32Vd5TTL1XrP",
        "colab_type": "code",
        "colab": {}
      },
      "source": [
        "print(\"This is backslash \\\\\\\\\")  #2 backslash counted as single backslash "
      ],
      "execution_count": null,
      "outputs": []
    },
    {
      "cell_type": "code",
      "metadata": {
        "id": "pyXZXzqG2Ak_",
        "colab_type": "code",
        "colab": {}
      },
      "source": [
        "print(\"hell\\blo\")  #backslash b used as backspace "
      ],
      "execution_count": null,
      "outputs": []
    }
  ]
}