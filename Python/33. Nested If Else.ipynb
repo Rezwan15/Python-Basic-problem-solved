{
 "cells": [
  {
   "cell_type": "code",
   "execution_count": 3,
   "metadata": {},
   "outputs": [
    {
     "name": "stdout",
     "output_type": "stream",
     "text": [
      "Guess a number b/w 1 and 100 : 17\n",
      "Too Low\n"
     ]
    }
   ],
   "source": [
    "#Nasted if else\n",
    "\n",
    "w = 27\n",
    "user = input(\"Guess a number b/w 1 and 100 : \")\n",
    "user = int(user)\n",
    "if user == w:\n",
    "    print(\"You Win !!!\")\n",
    "else:\n",
    "    if user < w:\n",
    "        print(\"Too Low\")\n",
    "    else:\n",
    "        print(\"Too High\")"
   ]
  },
  {
   "cell_type": "code",
   "execution_count": 4,
   "metadata": {},
   "outputs": [
    {
     "name": "stdout",
     "output_type": "stream",
     "text": [
      "Guess a number b/w 1 and 100 : 27\n",
      "You Win !!!\n"
     ]
    }
   ],
   "source": [
    "#Nasted if else\n",
    "\n",
    "w = 27\n",
    "user = input(\"Guess a number b/w 1 and 100 : \")\n",
    "user = int(user)\n",
    "if user == w:\n",
    "    print(\"You Win !!!\")\n",
    "else:\n",
    "    if user < w:\n",
    "        print(\"Too Low\")\n",
    "    else:\n",
    "        print(\"Too High\")"
   ]
  },
  {
   "cell_type": "code",
   "execution_count": 5,
   "metadata": {},
   "outputs": [
    {
     "name": "stdout",
     "output_type": "stream",
     "text": [
      "Guess a number b/w 1 and 100 : 28\n",
      "Too High\n"
     ]
    }
   ],
   "source": [
    "#Nasted if else\n",
    "\n",
    "w = 27\n",
    "user = input(\"Guess a number b/w 1 and 100 : \")\n",
    "user = int(user)\n",
    "if user == w:\n",
    "    print(\"You Win !!!\")\n",
    "else:\n",
    "    if user < w:\n",
    "        print(\"Too Low\")\n",
    "    else:\n",
    "        print(\"Too High\")"
   ]
  },
  {
   "cell_type": "code",
   "execution_count": null,
   "metadata": {},
   "outputs": [],
   "source": []
  }
 ],
 "metadata": {
  "kernelspec": {
   "display_name": "Python 3",
   "language": "python",
   "name": "python3"
  },
  "language_info": {
   "codemirror_mode": {
    "name": "ipython",
    "version": 3
   },
   "file_extension": ".py",
   "mimetype": "text/x-python",
   "name": "python",
   "nbconvert_exporter": "python",
   "pygments_lexer": "ipython3",
   "version": "3.7.3"
  }
 },
 "nbformat": 4,
 "nbformat_minor": 2
}
