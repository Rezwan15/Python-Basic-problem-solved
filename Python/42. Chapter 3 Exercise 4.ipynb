{
 "cells": [
  {
   "cell_type": "code",
   "execution_count": 1,
   "metadata": {},
   "outputs": [
    {
     "name": "stdout",
     "output_type": "stream",
     "text": [
      "Please enter your number : 4260\n",
      "12\n"
     ]
    }
   ],
   "source": [
    "number = input(\"Please enter your number : \")\n",
    "#1234\n",
    "total = 0\n",
    "i = 0\n",
    "while i < len(number):\n",
    "    total += int(number[i])\n",
    "    i +=1  \n",
    "    \n",
    "print(total)\n"
   ]
  },
  {
   "cell_type": "code",
   "execution_count": null,
   "metadata": {},
   "outputs": [],
   "source": [
    "#Addition of number with while loop\n",
    "\n",
    "number = input(\"Please enter your number : \")\n",
    "#1234\n",
    "total = 0\n",
    "i = 0\n",
    "while i < len(number):\n",
    "    total += int(number[i])\n",
    "    i +=1  \n",
    "    \n",
    "print(total)\n"
   ]
  }
 ],
 "metadata": {
  "kernelspec": {
   "display_name": "Python 3",
   "language": "python",
   "name": "python3"
  },
  "language_info": {
   "codemirror_mode": {
    "name": "ipython",
    "version": 3
   },
   "file_extension": ".py",
   "mimetype": "text/x-python",
   "name": "python",
   "nbconvert_exporter": "python",
   "pygments_lexer": "ipython3",
   "version": "3.7.3"
  }
 },
 "nbformat": 4,
 "nbformat_minor": 2
}
