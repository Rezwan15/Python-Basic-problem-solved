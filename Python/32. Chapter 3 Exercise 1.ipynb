{
 "cells": [
  {
   "cell_type": "code",
   "execution_count": 5,
   "metadata": {},
   "outputs": [
    {
     "name": "stdout",
     "output_type": "stream",
     "text": [
      "Please Enter The Number : 49\n",
      "Your Number is bellow 50 \n"
     ]
    }
   ],
   "source": [
    "#If Condition:\n",
    "\n",
    "no = input(\"Please Enter The Number : \")\n",
    "no = int(no)\n",
    "\n",
    "if no >= 50:\n",
    "    print(\"You Number is above 50\")\n",
    "else:\n",
    "    print(\"Your Number is bellow 50 \")\n",
    "    "
   ]
  },
  {
   "cell_type": "code",
   "execution_count": null,
   "metadata": {},
   "outputs": [],
   "source": []
  }
 ],
 "metadata": {
  "kernelspec": {
   "display_name": "Python 3",
   "language": "python",
   "name": "python3"
  },
  "language_info": {
   "codemirror_mode": {
    "name": "ipython",
    "version": 3
   },
   "file_extension": ".py",
   "mimetype": "text/x-python",
   "name": "python",
   "nbconvert_exporter": "python",
   "pygments_lexer": "ipython3",
   "version": "3.7.3"
  }
 },
 "nbformat": 4,
 "nbformat_minor": 2
}
