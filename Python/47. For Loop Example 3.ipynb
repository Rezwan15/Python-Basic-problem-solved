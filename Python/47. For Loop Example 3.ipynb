{
 "cells": [
  {
   "cell_type": "code",
   "execution_count": 1,
   "metadata": {},
   "outputs": [
    {
     "name": "stdout",
     "output_type": "stream",
     "text": [
      "enter your name : Siam\n",
      "S: 1\n",
      "i: 1\n",
      "a: 1\n",
      "m: 1\n"
     ]
    }
   ],
   "source": [
    "name = input(\"enter your name : \")\n",
    "temp = \"\"\n",
    "for i in range (0, len(name)):\n",
    "    if name [i] not in temp:\n",
    "        print(f\"{name[i]}: {name.count(name[i])}\")\n",
    "        temp += name[i]"
   ]
  },
  {
   "cell_type": "code",
   "execution_count": 2,
   "metadata": {},
   "outputs": [
    {
     "name": "stdout",
     "output_type": "stream",
     "text": [
      "enter your name : rrrezwan\n",
      "r: 3\n",
      "e: 1\n",
      "z: 1\n",
      "w: 1\n",
      "a: 1\n",
      "n: 1\n"
     ]
    }
   ],
   "source": [
    "name = input(\"enter your name : \")\n",
    "temp = \"\"\n",
    "for i in range (0, len(name)):\n",
    "    if name [i] not in temp:\n",
    "        print(f\"{name[i]}: {name.count(name[i])}\")\n",
    "        temp += name[i]"
   ]
  },
  {
   "cell_type": "code",
   "execution_count": null,
   "metadata": {},
   "outputs": [],
   "source": []
  },
  {
   "cell_type": "code",
   "execution_count": null,
   "metadata": {},
   "outputs": [],
   "source": []
  }
 ],
 "metadata": {
  "kernelspec": {
   "display_name": "Python 3",
   "language": "python",
   "name": "python3"
  },
  "language_info": {
   "codemirror_mode": {
    "name": "ipython",
    "version": 3
   },
   "file_extension": ".py",
   "mimetype": "text/x-python",
   "name": "python",
   "nbconvert_exporter": "python",
   "pygments_lexer": "ipython3",
   "version": "3.7.3"
  }
 },
 "nbformat": 4,
 "nbformat_minor": 2
}
