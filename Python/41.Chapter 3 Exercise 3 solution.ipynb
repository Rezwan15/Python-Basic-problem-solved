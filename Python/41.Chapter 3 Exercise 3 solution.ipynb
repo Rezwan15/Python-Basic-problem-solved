{
 "cells": [
  {
   "cell_type": "code",
   "execution_count": 2,
   "metadata": {},
   "outputs": [
    {
     "name": "stdout",
     "output_type": "stream",
     "text": [
      "Enter a number : 50\n",
      "1275\n"
     ]
    }
   ],
   "source": [
    "#Addition of incrimental value\n",
    "\n",
    "\n",
    "n = input(\"Enter a number : \")\n",
    "n = int(n)\n",
    "total = 0\n",
    "i = 1\n",
    "while i <= n:\n",
    "    total += i\n",
    "    i += 1\n",
    "print(total)"
   ]
  },
  {
   "cell_type": "code",
   "execution_count": null,
   "metadata": {},
   "outputs": [],
   "source": []
  }
 ],
 "metadata": {
  "kernelspec": {
   "display_name": "Python 3",
   "language": "python",
   "name": "python3"
  },
  "language_info": {
   "codemirror_mode": {
    "name": "ipython",
    "version": 3
   },
   "file_extension": ".py",
   "mimetype": "text/x-python",
   "name": "python",
   "nbconvert_exporter": "python",
   "pygments_lexer": "ipython3",
   "version": "3.7.3"
  }
 },
 "nbformat": 4,
 "nbformat_minor": 2
}
