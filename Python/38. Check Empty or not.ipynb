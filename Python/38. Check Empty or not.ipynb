{
 "cells": [
  {
   "cell_type": "code",
   "execution_count": 1,
   "metadata": {},
   "outputs": [
    {
     "name": "stdout",
     "output_type": "stream",
     "text": [
      "String is not empty\n"
     ]
    }
   ],
   "source": [
    "# check empty of not\n",
    "# important\n",
    "\n",
    "name = 'abc'\n",
    "if name:\n",
    "    print(\"String is not empty\")\n",
    "else:\n",
    "    print(\"String is empty\")\n"
   ]
  },
  {
   "cell_type": "code",
   "execution_count": 2,
   "metadata": {},
   "outputs": [
    {
     "name": "stdout",
     "output_type": "stream",
     "text": [
      "String is empty\n"
     ]
    }
   ],
   "source": [
    "# check empty of not\n",
    "# important\n",
    "\n",
    "name = ''\n",
    "if name:\n",
    "    print(\"String is not empty\")\n",
    "else:\n",
    "    print(\"String is empty\")\n"
   ]
  },
  {
   "cell_type": "code",
   "execution_count": 6,
   "metadata": {},
   "outputs": [
    {
     "name": "stdout",
     "output_type": "stream",
     "text": [
      "Please enter your name : Siam\n",
      "You typed : Siam\n",
      "Siam\n"
     ]
    }
   ],
   "source": [
    "# check empty of not\n",
    "# important\n",
    "\n",
    "name = input(\"Please enter your name : \")\n",
    "if name:\n",
    "    print(\"You typed : \" +name)\n",
    "    print(name)\n",
    "else:\n",
    "    print(\"you didnet type anything\")\n"
   ]
  },
  {
   "cell_type": "code",
   "execution_count": null,
   "metadata": {},
   "outputs": [],
   "source": []
  }
 ],
 "metadata": {
  "kernelspec": {
   "display_name": "Python 3",
   "language": "python",
   "name": "python3"
  },
  "language_info": {
   "codemirror_mode": {
    "name": "ipython",
    "version": 3
   },
   "file_extension": ".py",
   "mimetype": "text/x-python",
   "name": "python",
   "nbconvert_exporter": "python",
   "pygments_lexer": "ipython3",
   "version": "3.7.3"
  }
 },
 "nbformat": 4,
 "nbformat_minor": 2
}
