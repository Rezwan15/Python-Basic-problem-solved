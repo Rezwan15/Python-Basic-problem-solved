{
 "cells": [
  {
   "cell_type": "code",
   "execution_count": 3,
   "metadata": {},
   "outputs": [
    {
     "name": "stdout",
     "output_type": "stream",
     "text": [
      "      Rezwan      \n",
      "      Rezwan      ..................\n"
     ]
    }
   ],
   "source": [
    "name = \"      Rezwan      \"\n",
    "dots = \"..................\"\n",
    "#lstrip() method\n",
    "print(name)\n",
    "print(name + dots)"
   ]
  },
  {
   "cell_type": "code",
   "execution_count": 6,
   "metadata": {},
   "outputs": [
    {
     "name": "stdout",
     "output_type": "stream",
     "text": [
      "      Rezwan      \n",
      "      Rezwan      ..................\n",
      "Rezwan      ..................\n",
      "      Rezwan..................\n",
      "Rezwan..................\n"
     ]
    }
   ],
   "source": [
    "name = \"      Rezwan      \"\n",
    "dots = \"..................\"\n",
    "#lstrip() method\n",
    "print(name)\n",
    "print(name + dots)\n",
    "print(name.lstrip() + dots)\n",
    "print(name.rstrip() + dots)\n",
    "print(name.strip() + dots)"
   ]
  },
  {
   "cell_type": "code",
   "execution_count": 7,
   "metadata": {},
   "outputs": [
    {
     "name": "stdout",
     "output_type": "stream",
     "text": [
      "      Rez     wan      \n",
      "      Rez     wan      ..................\n",
      "Rez     wan      ..................\n",
      "      Rez     wan..................\n",
      "Rez     wan..................\n"
     ]
    },
    {
     "data": {
      "text/plain": [
       "'Rezwan'"
      ]
     },
     "execution_count": 7,
     "metadata": {},
     "output_type": "execute_result"
    }
   ],
   "source": [
    "name = \"      Rez     wan      \"\n",
    "dots = \"..................\"\n",
    "#lstrip() method\n",
    "print(name)\n",
    "print(name + dots)\n",
    "print(name.lstrip() + dots)\n",
    "print(name.rstrip() + dots)\n",
    "print(name.strip() + dots)\n",
    "name.replace(\" \",\"\") #replace method to remove all space"
   ]
  },
  {
   "cell_type": "code",
   "execution_count": 8,
   "metadata": {},
   "outputs": [
    {
     "name": "stdout",
     "output_type": "stream",
     "text": [
      "      Rez     wan      \n",
      "      Rez     wan      ..................\n",
      "Rez     wan      ..................\n",
      "      Rez     wan..................\n",
      "Rez     wan..................\n",
      "Rezwan..................\n"
     ]
    }
   ],
   "source": [
    "name = \"      Rez     wan      \"\n",
    "dots = \"..................\"\n",
    "#lstrip() method\n",
    "print(name)\n",
    "print(name + dots)\n",
    "print(name.lstrip() + dots)\n",
    "print(name.rstrip() + dots)\n",
    "print(name.strip() + dots)\n",
    "name.replace(\" \",\"\") #replace method to remove all space\n",
    "print(name.replace(\" \",\"\") + dots)"
   ]
  },
  {
   "cell_type": "code",
   "execution_count": 9,
   "metadata": {},
   "outputs": [
    {
     "name": "stdout",
     "output_type": "stream",
     "text": [
      "Enter comma separeted name and character: rrrezwan,r\n",
      "length of your name is 8\n",
      "Charechter count : 3\n"
     ]
    }
   ],
   "source": [
    "name, char = input (\"Enter comma separeted name and character: \").split(\",\")\n",
    "print(f\"length of your name is {len(name)}\")\n",
    "print(f\"Charechter count : {name.lower().count(char.lower())}\") #comma separeted, no space"
   ]
  },
  {
   "cell_type": "code",
   "execution_count": null,
   "metadata": {},
   "outputs": [],
   "source": []
  }
 ],
 "metadata": {
  "kernelspec": {
   "display_name": "Python 3",
   "language": "python",
   "name": "python3"
  },
  "language_info": {
   "codemirror_mode": {
    "name": "ipython",
    "version": 3
   },
   "file_extension": ".py",
   "mimetype": "text/x-python",
   "name": "python",
   "nbconvert_exporter": "python",
   "pygments_lexer": "ipython3",
   "version": "3.7.3"
  }
 },
 "nbformat": 4,
 "nbformat_minor": 2
}
