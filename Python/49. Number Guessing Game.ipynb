{
 "cells": [
  {
   "cell_type": "code",
   "execution_count": 6,
   "metadata": {},
   "outputs": [
    {
     "name": "stdout",
     "output_type": "stream",
     "text": [
      " guess a number between 1 and 100 : 20\n",
      "you win, and you guessed this number in 1 times \n"
     ]
    }
   ],
   "source": [
    "winning_number = 20\n",
    "guess = 1\n",
    "number = int(input(\" guess a number between 1 and 100 : \"))\n",
    "game_over = False\n",
    "\n",
    "while not game_over:\n",
    "    if number == winning_number:\n",
    "    \n",
    "        print(f\"you win, and you guessed this number in {guess} times \")\n",
    "        game_over = True\n",
    "    else:\n",
    "        #Wrong guess \n",
    "        \n",
    "        if number < winning_number:\n",
    "                print(\"too low\")\n",
    "                guess += 1\n",
    "                number = int(input(\"guess again\"))\n",
    "            \n",
    "        else: \n",
    "            print(\"Too High\")\n",
    "            guess += 1\n",
    "            number = int(input(\"guess again: \"))\n",
    "        \n"
   ]
  },
  {
   "cell_type": "code",
   "execution_count": null,
   "metadata": {},
   "outputs": [],
   "source": []
  }
 ],
 "metadata": {
  "kernelspec": {
   "display_name": "Python 3",
   "language": "python",
   "name": "python3"
  },
  "language_info": {
   "codemirror_mode": {
    "name": "ipython",
    "version": 3
   },
   "file_extension": ".py",
   "mimetype": "text/x-python",
   "name": "python",
   "nbconvert_exporter": "python",
   "pygments_lexer": "ipython3",
   "version": "3.7.3"
  }
 },
 "nbformat": 4,
 "nbformat_minor": 2
}
