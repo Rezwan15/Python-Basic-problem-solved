{
 "cells": [
  {
   "cell_type": "code",
   "execution_count": 3,
   "metadata": {},
   "outputs": [
    {
     "name": "stdout",
     "output_type": "stream",
     "text": [
      "Enter Your Age : 14\n",
      "You are above 14\n"
     ]
    }
   ],
   "source": [
    "#If Condition:\n",
    "\n",
    "age = input(\"Enter Your Age : \")\n",
    "age = int(age)\n",
    "\n",
    "if age >= 14:\n",
    "    print(\"You are above 14\")\n",
    "    "
   ]
  },
  {
   "cell_type": "code",
   "execution_count": null,
   "metadata": {},
   "outputs": [],
   "source": [
    "#If Condition:\n",
    "\n",
    "age = input(\"Enter Your Age : \")\n",
    "age = int(age)\n",
    "\n",
    "if age >= 14:\n",
    "    print(\"You are above 14\")\n",
    "    "
   ]
  }
 ],
 "metadata": {
  "kernelspec": {
   "display_name": "Python 3",
   "language": "python",
   "name": "python3"
  },
  "language_info": {
   "codemirror_mode": {
    "name": "ipython",
    "version": 3
   },
   "file_extension": ".py",
   "mimetype": "text/x-python",
   "name": "python",
   "nbconvert_exporter": "python",
   "pygments_lexer": "ipython3",
   "version": "3.7.3"
  }
 },
 "nbformat": 4,
 "nbformat_minor": 2
}
