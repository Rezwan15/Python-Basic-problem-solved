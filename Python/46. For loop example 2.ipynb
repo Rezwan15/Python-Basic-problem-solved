{
 "cells": [
  {
   "cell_type": "code",
   "execution_count": 3,
   "metadata": {},
   "outputs": [
    {
     "name": "stdout",
     "output_type": "stream",
     "text": [
      "enter a number : 16546464\n",
      "36\n"
     ]
    }
   ],
   "source": [
    "#practice for loop\n",
    "#num = \"1256\"\n",
    "#int(num[0]) --->1 \n",
    "#int(num[1]) --->2 \n",
    "#int(num[2]) --->3\n",
    "#int(num[3]) --->4 \n",
    "\n",
    "total = 0\n",
    "num = input(\"enter a number : \")\n",
    "for i in range (0, len(num)):\n",
    "    total += int(num[i])\n",
    "print(total)"
   ]
  },
  {
   "cell_type": "code",
   "execution_count": null,
   "metadata": {},
   "outputs": [],
   "source": []
  }
 ],
 "metadata": {
  "kernelspec": {
   "display_name": "Python 3",
   "language": "python",
   "name": "python3"
  },
  "language_info": {
   "codemirror_mode": {
    "name": "ipython",
    "version": 3
   },
   "file_extension": ".py",
   "mimetype": "text/x-python",
   "name": "python",
   "nbconvert_exporter": "python",
   "pygments_lexer": "ipython3",
   "version": "3.7.3"
  }
 },
 "nbformat": 4,
 "nbformat_minor": 2
}
