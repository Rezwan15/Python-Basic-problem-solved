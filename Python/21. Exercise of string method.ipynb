{
 "cells": [
  {
   "cell_type": "code",
   "execution_count": 4,
   "metadata": {},
   "outputs": [
    {
     "name": "stdout",
     "output_type": "stream",
     "text": [
      "Enter comma separeted name and character: Rezwan,a\n",
      "length of your name is 6\n",
      "Charechter count : 1\n"
     ]
    }
   ],
   "source": [
    "name, char = input (\"Enter comma separeted name and character: \").split(\",\")\n",
    "print(f\"length of your name is {len(name)}\")\n",
    "print(f\"Charechter count : {name.count(char)}\") #comma separeted, no space"
   ]
  },
  {
   "cell_type": "code",
   "execution_count": 1,
   "metadata": {},
   "outputs": [
    {
     "name": "stdout",
     "output_type": "stream",
     "text": [
      "Enter comma separeted name and character: Rezwaaaaan     ,  a\n",
      "length of your name is 15\n",
      "Charechter count : 5\n"
     ]
    }
   ],
   "source": [
    "#will remove all space \n",
    "name, char = input (\"Enter comma separeted name and character: \").split(\",\")\n",
    "print(f\"length of your name is {len(name)}\")\n",
    "print(f\"Charechter count : {name.strip().lower().count(char.strip().lower())}\") #comma separeted, no space\n",
    "#name.strip().lower().count(char.strip().lower())\n",
    "#char.strip().lower()"
   ]
  },
  {
   "cell_type": "code",
   "execution_count": null,
   "metadata": {},
   "outputs": [],
   "source": []
  }
 ],
 "metadata": {
  "kernelspec": {
   "display_name": "Python 3",
   "language": "python",
   "name": "python3"
  },
  "language_info": {
   "codemirror_mode": {
    "name": "ipython",
    "version": 3
   },
   "file_extension": ".py",
   "mimetype": "text/x-python",
   "name": "python",
   "nbconvert_exporter": "python",
   "pygments_lexer": "ipython3",
   "version": "3.7.3"
  }
 },
 "nbformat": 4,
 "nbformat_minor": 2
}
