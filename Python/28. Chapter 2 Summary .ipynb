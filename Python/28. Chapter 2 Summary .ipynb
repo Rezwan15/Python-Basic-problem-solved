{
 "cells": [
  {
   "cell_type": "code",
   "execution_count": 4,
   "metadata": {},
   "outputs": [
    {
     "name": "stdout",
     "output_type": "stream",
     "text": [
      "Rezwan\n",
      "R\n",
      "n\n"
     ]
    }
   ],
   "source": [
    "#strings\n",
    "name = \"Rezwan\"\n",
    "\n",
    "#String Indexing\"\n",
    "print(name)\n",
    "print(name[0])\n",
    "print(name[-1])"
   ]
  },
  {
   "cell_type": "code",
   "execution_count": 5,
   "metadata": {},
   "outputs": [
    {
     "name": "stdout",
     "output_type": "stream",
     "text": [
      "Rezwan\n",
      "R\n",
      "n\n",
      "Rezwa\n"
     ]
    }
   ],
   "source": [
    "#strings\n",
    "name = \"Rezwan\"\n",
    "\n",
    "#String Indexing\"\n",
    "print(name)\n",
    "print(name[0])\n",
    "print(name[-1])\n",
    "#String Slicing\n",
    "print(name[0:5])"
   ]
  },
  {
   "cell_type": "code",
   "execution_count": 6,
   "metadata": {},
   "outputs": [
    {
     "name": "stdout",
     "output_type": "stream",
     "text": [
      "enter your name and age : 17 siam\n",
      "17\n",
      "siam\n"
     ]
    }
   ],
   "source": [
    "#Take User input\n",
    "#age = input(\"Enter Your age : \")\n",
    "#print(age)\n",
    "\n",
    "name, ag = input(\"enter your name and age : \").split()\n",
    "print(name)\n",
    "print(ag)\n"
   ]
  },
  {
   "cell_type": "code",
   "execution_count": null,
   "metadata": {},
   "outputs": [],
   "source": [
    "#int function\n"
   ]
  }
 ],
 "metadata": {
  "kernelspec": {
   "display_name": "Python 3",
   "language": "python",
   "name": "python3"
  },
  "language_info": {
   "codemirror_mode": {
    "name": "ipython",
    "version": 3
   },
   "file_extension": ".py",
   "mimetype": "text/x-python",
   "name": "python",
   "nbconvert_exporter": "python",
   "pygments_lexer": "ipython3",
   "version": "3.7.3"
  }
 },
 "nbformat": 4,
 "nbformat_minor": 2
}
