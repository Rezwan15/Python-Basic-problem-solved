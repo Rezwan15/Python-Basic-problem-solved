{
 "cells": [
  {
   "cell_type": "code",
   "execution_count": 2,
   "metadata": {},
   "outputs": [
    {
     "name": "stdout",
     "output_type": "stream",
     "text": [
      "Please Enter your name : rrrerrrzwan\n",
      "r : 6\n",
      "r : 6\n",
      "r : 6\n",
      "e : 1\n",
      "r : 6\n",
      "r : 6\n",
      "r : 6\n",
      "z : 1\n",
      "w : 1\n",
      "a : 1\n",
      "n : 1\n"
     ]
    }
   ],
   "source": [
    "name = input(\"Please Enter your name : \")\n",
    "#Rezwan \n",
    "\n",
    "#name.count(\"R\") , name.count(name[0])\n",
    "#name.count(\"e\") , name.count(name[1])\n",
    "#name.count(\"z\") , name.count(name[2])\n",
    "#name.count(\"w\") , name.count(name[3])\n",
    "#name.count(\"a\") , name.count(name[4])\n",
    "#name.count(\"n\") , name.count(name[5])\n",
    "\n",
    "\n",
    "i = 0\n",
    "while i < len(name): \n",
    "    print(f\"{name[i]} : {name.count(name[i])}\")\n",
    "    i += 1\n",
    "   "
   ]
  },
  {
   "cell_type": "code",
   "execution_count": null,
   "metadata": {},
   "outputs": [],
   "source": []
  },
  {
   "cell_type": "code",
   "execution_count": null,
   "metadata": {},
   "outputs": [],
   "source": []
  }
 ],
 "metadata": {
  "kernelspec": {
   "display_name": "Python 3",
   "language": "python",
   "name": "python3"
  },
  "language_info": {
   "codemirror_mode": {
    "name": "ipython",
    "version": 3
   },
   "file_extension": ".py",
   "mimetype": "text/x-python",
   "name": "python",
   "nbconvert_exporter": "python",
   "pygments_lexer": "ipython3",
   "version": "3.7.3"
  }
 },
 "nbformat": 4,
 "nbformat_minor": 2
}
