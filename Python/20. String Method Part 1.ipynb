{
 "cells": [
  {
   "cell_type": "code",
   "execution_count": 2,
   "metadata": {},
   "outputs": [
    {
     "name": "stdout",
     "output_type": "stream",
     "text": [
      "17\n"
     ]
    }
   ],
   "source": [
    "#String Methods part one\n",
    "# Lan () Function\n",
    "name = \"ReZwan Ahmed Siam\"\n",
    "print(len(name))"
   ]
  },
  {
   "cell_type": "code",
   "execution_count": 3,
   "metadata": {},
   "outputs": [
    {
     "name": "stdout",
     "output_type": "stream",
     "text": [
      "17\n"
     ]
    }
   ],
   "source": [
    "#String Methods part one\n",
    "# Lan () Function\n",
    "name = \"Rezwan Ahmed Siam\"\n",
    "length = len(name) #Store \n",
    "print(length)"
   ]
  },
  {
   "cell_type": "code",
   "execution_count": 5,
   "metadata": {},
   "outputs": [
    {
     "name": "stdout",
     "output_type": "stream",
     "text": [
      "17\n"
     ]
    },
    {
     "data": {
      "text/plain": [
       "'rezwan ahmed siam'"
      ]
     },
     "execution_count": 5,
     "metadata": {},
     "output_type": "execute_result"
    }
   ],
   "source": [
    "#Lower () method\n",
    "#String Methods part one\n",
    "# Lan () Function\n",
    "name = \"Rezwan Ahmed Siam\"\n",
    "length = len(name) #Store \n",
    "print(length)\n",
    "name.lower()"
   ]
  },
  {
   "cell_type": "code",
   "execution_count": 6,
   "metadata": {},
   "outputs": [
    {
     "name": "stdout",
     "output_type": "stream",
     "text": [
      "REZWAN AHMED SIAM\n"
     ]
    }
   ],
   "source": [
    "#Upper () method\n",
    "#String Methods part one\n",
    "# Lan () Function\n",
    "name = \"Rezwan Ahmed Siam\"\n",
    "print(name.upper())"
   ]
  },
  {
   "cell_type": "code",
   "execution_count": 10,
   "metadata": {},
   "outputs": [
    {
     "name": "stdout",
     "output_type": "stream",
     "text": [
      "Rezwan Ahmed Siam\n"
     ]
    }
   ],
   "source": [
    "#Title () method\n",
    "#String Methods part one\n",
    "# Lan () Function\n",
    "name = \"rezwan ahmed siam\"\n",
    "print(name.title())"
   ]
  },
  {
   "cell_type": "code",
   "execution_count": 12,
   "metadata": {},
   "outputs": [
    {
     "name": "stdout",
     "output_type": "stream",
     "text": [
      "3\n"
     ]
    }
   ],
   "source": [
    "#count () method\n",
    "#String Methods part one\n",
    "# Lan () Function\n",
    "name = \"rezwan ahmed siam\"\n",
    "print(name.count(\"a\")) #pass the text"
   ]
  },
  {
   "cell_type": "code",
   "execution_count": null,
   "metadata": {},
   "outputs": [],
   "source": []
  }
 ],
 "metadata": {
  "kernelspec": {
   "display_name": "Python 3",
   "language": "python",
   "name": "python3"
  },
  "language_info": {
   "codemirror_mode": {
    "name": "ipython",
    "version": 3
   },
   "file_extension": ".py",
   "mimetype": "text/x-python",
   "name": "python",
   "nbconvert_exporter": "python",
   "pygments_lexer": "ipython3",
   "version": "3.7.3"
  }
 },
 "nbformat": 4,
 "nbformat_minor": 2
}
