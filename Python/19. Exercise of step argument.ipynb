{
 "cells": [
  {
   "cell_type": "code",
   "execution_count": 3,
   "metadata": {},
   "outputs": [
    {
     "name": "stdout",
     "output_type": "stream",
     "text": [
      "type your name: SIAM\n",
      "MAIS\n"
     ]
    }
   ],
   "source": [
    "name = input(\"type your name: \")\n",
    "reverse = name[::-1]\n",
    "print(reverse)"
   ]
  },
  {
   "cell_type": "code",
   "execution_count": 5,
   "metadata": {},
   "outputs": [
    {
     "name": "stdout",
     "output_type": "stream",
     "text": [
      "type your name: Rezwan\n",
      "reverse of your name is nawzeR\n"
     ]
    }
   ],
   "source": [
    "name = input(\"type your name: \")\n",
    "reverse = name[::-1]\n",
    "print(f\"reverse of your name is {reverse}\")"
   ]
  },
  {
   "cell_type": "code",
   "execution_count": 7,
   "metadata": {},
   "outputs": [
    {
     "name": "stdout",
     "output_type": "stream",
     "text": [
      "type your name: SIAM\n",
      "reverse of your name is MAIS\n"
     ]
    }
   ],
   "source": [
    "#in Two Line\n",
    "name = input(\"type your name: \")\n",
    "#reverse = name[::-1]\n",
    "print(f\"reverse of your name is {name[-1::-1]}\")"
   ]
  },
  {
   "cell_type": "code",
   "execution_count": null,
   "metadata": {},
   "outputs": [],
   "source": []
  }
 ],
 "metadata": {
  "kernelspec": {
   "display_name": "Python 3",
   "language": "python",
   "name": "python3"
  },
  "language_info": {
   "codemirror_mode": {
    "name": "ipython",
    "version": 3
   },
   "file_extension": ".py",
   "mimetype": "text/x-python",
   "name": "python",
   "nbconvert_exporter": "python",
   "pygments_lexer": "ipython3",
   "version": "3.7.3"
  }
 },
 "nbformat": 4,
 "nbformat_minor": 2
}
