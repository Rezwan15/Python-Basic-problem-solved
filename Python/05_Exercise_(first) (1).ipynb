{
  "nbformat": 4,
  "nbformat_minor": 0,
  "metadata": {
    "colab": {
      "name": "05.Exercise (first)",
      "provenance": [],
      "private_outputs": true
    },
    "kernelspec": {
      "name": "python3",
      "display_name": "Python 3"
    }
  },
  "cells": [
    {
      "cell_type": "code",
      "metadata": {
        "id": "JASIVpwmvmio",
        "colab_type": "code",
        "colab": {}
      },
      "source": [
        "print(\"This is \\\\\\\\ double backslash\")\n",
        "print(\"This is /\\\\/\\\\/\\\\/\\\\/\\\\ mountain\")\n",
        "print(\"This is \\t awsome\")\n",
        "print(\"\\\\\\\" \\\\n \\\\t \\\\ \")"
      ],
      "execution_count": null,
      "outputs": []
    }
  ]
}